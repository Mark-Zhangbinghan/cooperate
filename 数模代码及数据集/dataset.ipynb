{
 "cells": [
  {
   "cell_type": "code",
   "id": "initial_id",
   "metadata": {
    "collapsed": true,
    "ExecuteTime": {
     "end_time": "2024-08-05T08:42:16.879598Z",
     "start_time": "2024-08-05T08:42:15.662986Z"
    }
   },
   "source": [
    "import pandas as pd\n",
    "import matplotlib.pyplot as plt\n",
    "plt.rcParams['font.family'] = 'SimSun' "
   ],
   "outputs": [],
   "execution_count": 1
  },
  {
   "cell_type": "code",
   "source": [
    "\n",
    "data = {\n",
    "    \"楼宇名称\": [\"充电站1\", \"四美楼\", \"芳邻楼\", \"凌云楼\", \"远山楼\", \"重霄楼\", \"北辰楼\", \"弥津楼\", \"映雪楼\", \"高洁楼\", \"南溟楼\", \n",
    "               \"长洲楼\", \"秋水楼\", \"临川楼\", \n",
    "               \"十字路口\", \"图书馆\", \n",
    "               \"景明楼\", \"清风楼\", \"皎月楼\", \"耸翠楼\", \"朱华楼\", \n",
    "               \"T型路口\",\n",
    "               \"绿竹楼\", \"沉璧楼\", \n",
    "               \"雅望楼\", \"朝晖楼\", \"流丹楼\", \"俊采楼\", \"汀兰楼\", \"兰亭楼\", \"郁青楼\", \"星耀楼\", \"万千楼\", \"东隅楼\", \n",
    "               \"长风楼\",\"充电站2\"],\n",
    "    \"还书数\": [0, 3, 4, 2, 5, 6, 6, 5, 2, 4, 3,  \n",
    "              6, 4, 3, \n",
    "              0, 0, \n",
    "              6, 2, 7, 4, 2, \n",
    "              0, \n",
    "              5, 6, \n",
    "              5, 3, 8, 3, 6, 2, 3, 4, 2, 1, \n",
    "              5, 0],\n",
    "    \"借书数\": [0, 0, 1, 0, 2, 0, 2, 0, 0, 0, 1, \n",
    "              0, 3, 0,\n",
    "              0, 0, \n",
    "              0, 0, 2, 0, 3,\n",
    "              0, \n",
    "              0, 0, \n",
    "              2, 0, 0, 0, 2, 0, 0, 0, 2, 0, \n",
    "              0, 0]\n",
    "}\n",
    "\n",
    "df = pd.DataFrame(data)\n",
    "\n",
    "csv_file_path = 'borrow_return_data.csv'\n",
    "df.to_csv(csv_file_path, index=False)\n",
    "\n",
    "csv_file_path\n"
   ],
   "metadata": {
    "collapsed": false,
    "ExecuteTime": {
     "end_time": "2024-08-05T08:42:21.240005Z",
     "start_time": "2024-08-05T08:42:21.211091Z"
    }
   },
   "id": "a108005a15ae5c85",
   "outputs": [
    {
     "data": {
      "text/plain": [
       "'borrow_return_data.csv'"
      ]
     },
     "execution_count": 2,
     "metadata": {},
     "output_type": "execute_result"
    }
   ],
   "execution_count": 2
  },
  {
   "cell_type": "code",
   "source": [
    "data_2 = {\n",
    "    \"道路名称\": [\n",
    "        \"新疆路\", \"内蒙古路\", \"吉林路\",\"辽宁路\",\"黑龙江路\",\n",
    "        \"甘肃路\", \"湖北路\",\"河北路\", \"天津路\",\"北京路\",\"青海路\",\n",
    "        \"湖南路\", \"河南路\", \"江苏路\", \"上海路\",\"宁夏路\",\"重庆路\",\"安徽路\",\"江西路\",\n",
    "        \"浙江路\",\"四川路\",\"云南路\",\"广西路\",\"广东路\",\"福建路\",\"西藏路\",\"贵州路\",\"澳门路\",\"香港路\",\"台湾路\",\"昆仑道\",\"峨眉道\",\"陕西路\",\"蜀山道\",\"青城道\",\n",
    "        \"敦煌道\",\"骊山道\",\"华山道\",\"衡山道\",\"武陵道\",\"恒山道\",\"五台道\",\n",
    "        \"山西路\",\"黄山道\",\"华容道\",\"武当道\",\"嵩山道\",\"无连接\",\"庐山路\",\"中山路\",\"龙虎道\",\n",
    "        \"泰山道\",\"山东路\",\"武夷道\",\"岭南道\",\"齐云道\",\"天柱道\",\"雁荡道\",\"普陀道\",\"终南道\"\n",
    "       \n",
    "    ],\n",
    "    \"实际距离\": [\n",
    "        0.7, 0.7, 0.5, 1.1, 0.5, 0.6, \n",
    "        1.1, 0.7, 0.6, 0.9, 1.5, 1.3, \n",
    "        1, 0.3, 0.8, 1.7, 0.7, 0.4, \n",
    "        0.8, 0.7, 2, 1, 0.5, 0.6, \n",
    "        0.5, 0.7, 0.6, 0.6, 0.4, 0.3, \n",
    "        0.6, 0.3, 1.1 ,0.5, 0.8, 0.5, \n",
    "        1.2,\n",
    "        1.8,\n",
    "        0.8, 1, 0.4, 1.1, 2.2, 0.7,\n",
    "        1, 0.9, 0.4, 100, 0.5, 0.6,\n",
    "        0.3, 1.1, 2.1, 0.8, 1.1, 0.4,\n",
    "        0.9, 1.4, 0.6, 0.5\n",
    "    ]\n",
    "}\n",
    "\n",
    "df_2 = pd.DataFrame(data_2)\n",
    "\n",
    "csv_file_path_2 = 'road_distance_data.csv'\n",
    "df_2.to_csv(csv_file_path_2, index=False)\n",
    "\n",
    "csv_file_path_2"
   ],
   "metadata": {
    "collapsed": false,
    "ExecuteTime": {
     "end_time": "2024-08-05T08:42:23.464537Z",
     "start_time": "2024-08-05T08:42:23.454564Z"
    }
   },
   "id": "4fb498dd2f38a473",
   "outputs": [
    {
     "data": {
      "text/plain": [
       "'road_distance_data.csv'"
      ]
     },
     "execution_count": 3,
     "metadata": {},
     "output_type": "execute_result"
    }
   ],
   "execution_count": 3
  }
 ],
 "metadata": {
  "kernelspec": {
   "display_name": "Python 3",
   "language": "python",
   "name": "python3"
  },
  "language_info": {
   "codemirror_mode": {
    "name": "ipython",
    "version": 2
   },
   "file_extension": ".py",
   "mimetype": "text/x-python",
   "name": "python",
   "nbconvert_exporter": "python",
   "pygments_lexer": "ipython2",
   "version": "2.7.6"
  }
 },
 "nbformat": 4,
 "nbformat_minor": 5
}
